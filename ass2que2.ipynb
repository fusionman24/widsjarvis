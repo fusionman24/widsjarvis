{
  "nbformat": 4,
  "nbformat_minor": 0,
  "metadata": {
    "colab": {
      "provenance": [],
      "authorship_tag": "ABX9TyMNAUx1eu52+OYdfBbrpzZR"
    },
    "kernelspec": {
      "name": "python3",
      "display_name": "Python 3"
    },
    "language_info": {
      "name": "python"
    }
  },
  "cells": [
    {
      "cell_type": "code",
      "source": [
        "import spacy\n",
        "\n",
        "nlp = spacy.load(\"en_core_web_sm\")\n",
        "\n",
        "phrase = \"SpaCy is a powerful NLP library for tokenization.\"\n",
        "\n",
        "doc = nlp(phrase)\n",
        "\n",
        "print(f\"{'Token':<15}{'Is Space':<10}\")\n",
        "for token in doc:\n",
        "    print(f\"{token.text:<15}{token.whitespace_ != ''}\")\n",
        "\n"
      ],
      "metadata": {
        "colab": {
          "base_uri": "https://localhost:8080/"
        },
        "id": "RcRoy8DVdDB2",
        "outputId": "58146be0-3b73-440e-abc1-65d48f9c8f36"
      },
      "execution_count": 2,
      "outputs": [
        {
          "output_type": "stream",
          "name": "stdout",
          "text": [
            "Token          Is Space  \n",
            "SpaCy          True\n",
            "is             True\n",
            "a              True\n",
            "powerful       True\n",
            "NLP            True\n",
            "library        True\n",
            "for            True\n",
            "tokenization   False\n",
            ".              False\n"
          ]
        }
      ]
    },
    {
      "cell_type": "code",
      "source": [],
      "metadata": {
        "id": "G22J8VSpfsNy"
      },
      "execution_count": null,
      "outputs": []
    },
    {
      "cell_type": "code",
      "execution_count": null,
      "metadata": {
        "id": "E0KUOIBAcw3l"
      },
      "outputs": [],
      "source": []
    }
  ]
}