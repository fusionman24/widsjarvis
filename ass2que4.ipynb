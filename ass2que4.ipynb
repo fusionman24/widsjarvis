{
  "nbformat": 4,
  "nbformat_minor": 0,
  "metadata": {
    "colab": {
      "provenance": [],
      "authorship_tag": "ABX9TyN7YIqr7EkY0Itd6e5GjEbm",
      "include_colab_link": true
    },
    "kernelspec": {
      "name": "python3",
      "display_name": "Python 3"
    },
    "language_info": {
      "name": "python"
    }
  },
  "cells": [
    {
      "cell_type": "markdown",
      "metadata": {
        "id": "view-in-github",
        "colab_type": "text"
      },
      "source": [
        "<a href=\"https://colab.research.google.com/github/fusionman24/widsjarvis/blob/main/ass2que4.ipynb\" target=\"_parent\"><img src=\"https://colab.research.google.com/assets/colab-badge.svg\" alt=\"Open In Colab\"/></a>"
      ]
    },
    {
      "cell_type": "code",
      "source": [
        "import spacy\n",
        "\n",
        "nlp = spacy.load(\"en_core_web_sm\")\n",
        "\n",
        "text = \"NLP is fascinating, and SpaCy makes it even more interesting.\"\n",
        "\n",
        "doc = nlp(text)\n",
        "\n",
        "print(f\"{'Word':<20}{'POS':<20}{'Dependency':<20}\")\n",
        "for token in doc:\n",
        "    print(f\"{token.text:<20}{token.pos_:<20}{token.dep_:<20}\")\n"
      ],
      "metadata": {
        "colab": {
          "base_uri": "https://localhost:8080/"
        },
        "id": "RcRoy8DVdDB2",
        "outputId": "99b0062b-e660-4527-d1e6-79d9e6d6cd32"
      },
      "execution_count": 4,
      "outputs": [
        {
          "output_type": "stream",
          "name": "stdout",
          "text": [
            "Word                POS                 Dependency          \n",
            "NLP                 PROPN               nsubj               \n",
            "is                  AUX                 ROOT                \n",
            "fascinating         ADJ                 acomp               \n",
            ",                   PUNCT               punct               \n",
            "and                 CCONJ               cc                  \n",
            "SpaCy               PROPN               nsubj               \n",
            "makes               VERB                conj                \n",
            "it                  PRON                nsubj               \n",
            "even                ADV                 advmod              \n",
            "more                ADV                 advmod              \n",
            "interesting         ADJ                 ccomp               \n",
            ".                   PUNCT               punct               \n"
          ]
        }
      ]
    },
    {
      "cell_type": "code",
      "source": [],
      "metadata": {
        "id": "Xe6f90SWcWtK"
      },
      "execution_count": null,
      "outputs": []
    },
    {
      "cell_type": "code",
      "source": [],
      "metadata": {
        "id": "G22J8VSpfsNy"
      },
      "execution_count": null,
      "outputs": []
    },
    {
      "cell_type": "code",
      "execution_count": null,
      "metadata": {
        "id": "E0KUOIBAcw3l"
      },
      "outputs": [],
      "source": []
    }
  ]
}