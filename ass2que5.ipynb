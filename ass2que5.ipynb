{
  "nbformat": 4,
  "nbformat_minor": 0,
  "metadata": {
    "colab": {
      "provenance": [],
      "authorship_tag": "ABX9TyPL3xOYFByfIw/EaW6bpMe2"
    },
    "kernelspec": {
      "name": "python3",
      "display_name": "Python 3"
    },
    "language_info": {
      "name": "python"
    }
  },
  "cells": [
    {
      "cell_type": "code",
      "source": [
        "import spacy\n",
        "\n",
        "nlp = spacy.load(\"en_core_web_sm\")\n",
        "\n",
        "info = \"Elon Musk, the CEO of Tesla, was born on June 28, 1971, in Pretoria, South Africa.\"\n",
        "\n",
        "doc = nlp(info)\n",
        "\n",
        "print(f\"{'Entity':<20}{'Label':<15}{'Description':<30}\")\n",
        "for ent in doc.ents:\n",
        "    print(f\"{ent.text:<20}{ent.label_:<15}{spacy.explain(ent.label_):<30}\")\n",
        "\n"
      ],
      "metadata": {
        "colab": {
          "base_uri": "https://localhost:8080/"
        },
        "id": "RcRoy8DVdDB2",
        "outputId": "eb5fcc03-500c-4ef2-fed6-6f75c6323546"
      },
      "execution_count": 3,
      "outputs": [
        {
          "output_type": "stream",
          "name": "stdout",
          "text": [
            "Entity              Label          Description                   \n",
            "Elon Musk           PERSON         People, including fictional   \n",
            "Tesla               ORG            Companies, agencies, institutions, etc.\n",
            "June 28, 1971       DATE           Absolute or relative dates or periods\n",
            "Pretoria            GPE            Countries, cities, states     \n",
            "South Africa        GPE            Countries, cities, states     \n"
          ]
        }
      ]
    },
    {
      "cell_type": "code",
      "source": [],
      "metadata": {
        "id": "Xe6f90SWcWtK"
      },
      "execution_count": null,
      "outputs": []
    },
    {
      "cell_type": "code",
      "source": [],
      "metadata": {
        "id": "G22J8VSpfsNy"
      },
      "execution_count": null,
      "outputs": []
    },
    {
      "cell_type": "code",
      "execution_count": null,
      "metadata": {
        "id": "E0KUOIBAcw3l"
      },
      "outputs": [],
      "source": []
    }
  ]
}